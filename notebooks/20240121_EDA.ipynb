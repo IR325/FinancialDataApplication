{
 "cells": [
  {
   "cell_type": "code",
   "execution_count": 49,
   "id": "9c12d03e-136e-43c1-a87c-eaeb454e975d",
   "metadata": {},
   "outputs": [],
   "source": [
    "import os\n",
    "import pandas as pd\n",
    "import ydata_profiling as pdp\n",
    "import datetime\n",
    "import numpy as np"
   ]
  },
  {
   "cell_type": "markdown",
   "id": "d12d45c1-6750-4e35-8b07-745ac59551e0",
   "metadata": {},
   "source": [
    "# 環境設定"
   ]
  },
  {
   "cell_type": "code",
   "execution_count": 2,
   "id": "925cf3de-973f-4a3f-b522-9cdcfdcd9cd5",
   "metadata": {},
   "outputs": [],
   "source": [
    "DATA_PATH = \"./data\""
   ]
  },
  {
   "cell_type": "markdown",
   "id": "5fe195c7-4daf-4570-9612-4cac63804921",
   "metadata": {},
   "source": [
    "# 分析"
   ]
  },
  {
   "cell_type": "markdown",
   "id": "05e99880-ff0f-4f58-a258-82cfd17f7a0a",
   "metadata": {},
   "source": [
    "## データ読み込み"
   ]
  },
  {
   "cell_type": "code",
   "execution_count": 7,
   "id": "729675d8-45ed-4435-8c16-43bb3b7759d4",
   "metadata": {},
   "outputs": [],
   "source": [
    "train_data = pd.read_csv(os.path.join(DATA_PATH, \"train.csv\"), index_col=0)\n",
    "test_data = pd.read_csv(os.path.join(DATA_PATH, \"test.csv\"), index_col=0)"
   ]
  },
  {
   "cell_type": "markdown",
   "id": "dbbd5048-f1c2-402d-ac4c-c0dbcfc802ae",
   "metadata": {},
   "source": [
    "## データ概要"
   ]
  },
  {
   "cell_type": "code",
   "execution_count": 10,
   "id": "aecb13fd-9d1c-4503-b389-fbbd17afcc39",
   "metadata": {},
   "outputs": [
    {
     "name": "stdout",
     "output_type": "stream",
     "text": [
      "学習データの行数・列数: (42307, 20)\n",
      "テストデータの行数・列数: (42308, 19)\n"
     ]
    }
   ],
   "source": [
    "print(f\"学習データの行数・列数: {train_data.shape}\")\n",
    "print(f\"テストデータの行数・列数: {test_data.shape}\")"
   ]
  },
  {
   "cell_type": "code",
   "execution_count": 12,
   "id": "ffcb8b20-6b2c-41cd-9953-0494561b1377",
   "metadata": {},
   "outputs": [
    {
     "data": {
      "text/plain": [
       "Term                   int64\n",
       "NoEmp                  int64\n",
       "NewExist             float64\n",
       "CreateJob              int64\n",
       "RetainedJob            int64\n",
       "FranchiseCode          int64\n",
       "RevLineCr             object\n",
       "LowDoc                object\n",
       "DisbursementDate      object\n",
       "MIS_Status             int64\n",
       "Sector                 int64\n",
       "ApprovalDate          object\n",
       "ApprovalFY             int64\n",
       "City                  object\n",
       "State                 object\n",
       "BankState             object\n",
       "DisbursementGross     object\n",
       "GrAppv                object\n",
       "SBA_Appv              object\n",
       "UrbanRural             int64\n",
       "dtype: object"
      ]
     },
     "execution_count": 12,
     "metadata": {},
     "output_type": "execute_result"
    }
   ],
   "source": [
    "train_data.dtypes"
   ]
  },
  {
   "cell_type": "code",
   "execution_count": 11,
   "id": "e95be267-9c3d-4f0e-bc95-74d353494b17",
   "metadata": {
    "collapsed": true,
    "jupyter": {
     "outputs_hidden": true
    },
    "scrolled": true
   },
   "outputs": [
    {
     "name": "stderr",
     "output_type": "stream",
     "text": [
      "Summarize dataset:   0%|                                  | 0/5 [00:00<?, ?it/s]/Users/ryusuke/anaconda3/envs/auto_edit/lib/python3.11/site-packages/ydata_profiling/model/typeset.py:208: FutureWarning: is_categorical_dtype is deprecated and will be removed in a future version. Use isinstance(dtype, CategoricalDtype) instead\n",
      "  is_valid_dtype = pdt.is_categorical_dtype(series) and not pdt.is_bool_dtype(\n",
      "/Users/ryusuke/anaconda3/envs/auto_edit/lib/python3.11/site-packages/ydata_profiling/model/typeset.py:208: FutureWarning: is_categorical_dtype is deprecated and will be removed in a future version. Use isinstance(dtype, CategoricalDtype) instead\n",
      "  is_valid_dtype = pdt.is_categorical_dtype(series) and not pdt.is_bool_dtype(\n",
      "/Users/ryusuke/anaconda3/envs/auto_edit/lib/python3.11/site-packages/ydata_profiling/model/typeset.py:125: FutureWarning: is_categorical_dtype is deprecated and will be removed in a future version. Use isinstance(dtype, CategoricalDtype) instead\n",
      "  not pdt.is_categorical_dtype(series)\n",
      "/Users/ryusuke/anaconda3/envs/auto_edit/lib/python3.11/site-packages/ydata_profiling/model/typeset.py:125: FutureWarning: is_categorical_dtype is deprecated and will be removed in a future version. Use isinstance(dtype, CategoricalDtype) instead\n",
      "  not pdt.is_categorical_dtype(series)\n",
      "/Users/ryusuke/anaconda3/envs/auto_edit/lib/python3.11/site-packages/ydata_profiling/model/typeset_relations.py:34: FutureWarning: is_categorical_dtype is deprecated and will be removed in a future version. Use isinstance(dtype, CategoricalDtype) instead\n",
      "  if pdt.is_categorical_dtype(series):\n",
      "/Users/ryusuke/anaconda3/envs/auto_edit/lib/python3.11/site-packages/ydata_profiling/model/typeset_relations.py:34: FutureWarning: is_categorical_dtype is deprecated and will be removed in a future version. Use isinstance(dtype, CategoricalDtype) instead\n",
      "  if pdt.is_categorical_dtype(series):\n",
      "/Users/ryusuke/anaconda3/envs/auto_edit/lib/python3.11/site-packages/ydata_profiling/model/typeset.py:208: FutureWarning: is_categorical_dtype is deprecated and will be removed in a future version. Use isinstance(dtype, CategoricalDtype) instead\n",
      "  is_valid_dtype = pdt.is_categorical_dtype(series) and not pdt.is_bool_dtype(\n",
      "/Users/ryusuke/anaconda3/envs/auto_edit/lib/python3.11/site-packages/ydata_profiling/model/typeset.py:125: FutureWarning: is_categorical_dtype is deprecated and will be removed in a future version. Use isinstance(dtype, CategoricalDtype) instead\n",
      "  not pdt.is_categorical_dtype(series)\n",
      "/Users/ryusuke/anaconda3/envs/auto_edit/lib/python3.11/site-packages/ydata_profiling/model/typeset.py:125: FutureWarning: is_categorical_dtype is deprecated and will be removed in a future version. Use isinstance(dtype, CategoricalDtype) instead\n",
      "  not pdt.is_categorical_dtype(series)\n",
      "/Users/ryusuke/anaconda3/envs/auto_edit/lib/python3.11/site-packages/ydata_profiling/model/typeset_relations.py:34: FutureWarning: is_categorical_dtype is deprecated and will be removed in a future version. Use isinstance(dtype, CategoricalDtype) instead\n",
      "  if pdt.is_categorical_dtype(series):\n",
      "/Users/ryusuke/anaconda3/envs/auto_edit/lib/python3.11/site-packages/ydata_profiling/model/typeset_relations.py:34: FutureWarning: is_categorical_dtype is deprecated and will be removed in a future version. Use isinstance(dtype, CategoricalDtype) instead\n",
      "  if pdt.is_categorical_dtype(series):\n",
      "Summarize dataset:   0%|  | 0/25 [00:00<?, ?it/s, Describe variable:RetainedJob]/Users/ryusuke/anaconda3/envs/auto_edit/lib/python3.11/site-packages/ydata_profiling/model/typeset.py:208: FutureWarning: is_categorical_dtype is deprecated and will be removed in a future version. Use isinstance(dtype, CategoricalDtype) instead\n",
      "  is_valid_dtype = pdt.is_categorical_dtype(series) and not pdt.is_bool_dtype(\n",
      "/Users/ryusuke/anaconda3/envs/auto_edit/lib/python3.11/site-packages/ydata_profiling/model/typeset.py:208: FutureWarning: is_categorical_dtype is deprecated and will be removed in a future version. Use isinstance(dtype, CategoricalDtype) instead\n",
      "  is_valid_dtype = pdt.is_categorical_dtype(series) and not pdt.is_bool_dtype(\n",
      "/Users/ryusuke/anaconda3/envs/auto_edit/lib/python3.11/site-packages/ydata_profiling/model/typeset.py:208: FutureWarning: is_categorical_dtype is deprecated and will be removed in a future version. Use isinstance(dtype, CategoricalDtype) instead\n",
      "  is_valid_dtype = pdt.is_categorical_dtype(series) and not pdt.is_bool_dtype(\n",
      "/Users/ryusuke/anaconda3/envs/auto_edit/lib/python3.11/site-packages/ydata_profiling/model/typeset.py:208: FutureWarning: is_categorical_dtype is deprecated and will be removed in a future version. Use isinstance(dtype, CategoricalDtype) instead\n",
      "  is_valid_dtype = pdt.is_categorical_dtype(series) and not pdt.is_bool_dtype(\n",
      "/Users/ryusuke/anaconda3/envs/auto_edit/lib/python3.11/site-packages/ydata_profiling/model/typeset.py:125: FutureWarning: is_categorical_dtype is deprecated and will be removed in a future version. Use isinstance(dtype, CategoricalDtype) instead\n",
      "  not pdt.is_categorical_dtype(series)\n",
      "Summarize dataset:   4%| | 1/25 [00:00<00:14,  1.69it/s, Describe variable:Creat/Users/ryusuke/anaconda3/envs/auto_edit/lib/python3.11/site-packages/ydata_profiling/model/typeset.py:208: FutureWarning: is_categorical_dtype is deprecated and will be removed in a future version. Use isinstance(dtype, CategoricalDtype) instead\n",
      "  is_valid_dtype = pdt.is_categorical_dtype(series) and not pdt.is_bool_dtype(\n",
      "Summarize dataset:   8%| | 2/25 [00:00<00:13,  1.69it/s, Describe variable:Term]/Users/ryusuke/anaconda3/envs/auto_edit/lib/python3.11/site-packages/ydata_profiling/model/typeset.py:208: FutureWarning: is_categorical_dtype is deprecated and will be removed in a future version. Use isinstance(dtype, CategoricalDtype) instead\n",
      "  is_valid_dtype = pdt.is_categorical_dtype(series) and not pdt.is_bool_dtype(\n",
      "/Users/ryusuke/anaconda3/envs/auto_edit/lib/python3.11/site-packages/ydata_profiling/model/typeset.py:125: FutureWarning: is_categorical_dtype is deprecated and will be removed in a future version. Use isinstance(dtype, CategoricalDtype) instead\n",
      "  not pdt.is_categorical_dtype(series)\n",
      "/Users/ryusuke/anaconda3/envs/auto_edit/lib/python3.11/site-packages/ydata_profiling/model/typeset.py:208: FutureWarning: is_categorical_dtype is deprecated and will be removed in a future version. Use isinstance(dtype, CategoricalDtype) instead\n",
      "  is_valid_dtype = pdt.is_categorical_dtype(series) and not pdt.is_bool_dtype(\n",
      "Summarize dataset:  12%| | 3/25 [00:00<00:04,  5.17it/s, Describe variable:NoEmp/Users/ryusuke/anaconda3/envs/auto_edit/lib/python3.11/site-packages/ydata_profiling/model/typeset_relations.py:34: FutureWarning: is_categorical_dtype is deprecated and will be removed in a future version. Use isinstance(dtype, CategoricalDtype) instead\n",
      "  if pdt.is_categorical_dtype(series):\n",
      "/Users/ryusuke/anaconda3/envs/auto_edit/lib/python3.11/site-packages/ydata_profiling/model/typeset.py:208: FutureWarning: is_categorical_dtype is deprecated and will be removed in a future version. Use isinstance(dtype, CategoricalDtype) instead\n",
      "  is_valid_dtype = pdt.is_categorical_dtype(series) and not pdt.is_bool_dtype(\n",
      "/Users/ryusuke/anaconda3/envs/auto_edit/lib/python3.11/site-packages/ydata_profiling/model/typeset.py:125: FutureWarning: is_categorical_dtype is deprecated and will be removed in a future version. Use isinstance(dtype, CategoricalDtype) instead\n",
      "  not pdt.is_categorical_dtype(series)\n",
      "Summarize dataset:  16%|▏| 4/25 [00:00<00:04,  5.17it/s, Describe variable:Franc/Users/ryusuke/anaconda3/envs/auto_edit/lib/python3.11/site-packages/ydata_profiling/model/typeset.py:208: FutureWarning: is_categorical_dtype is deprecated and will be removed in a future version. Use isinstance(dtype, CategoricalDtype) instead\n",
      "  is_valid_dtype = pdt.is_categorical_dtype(series) and not pdt.is_bool_dtype(\n",
      "Summarize dataset:  20%|▏| 5/25 [00:01<00:03,  5.79it/s, Describe variable:Franc/Users/ryusuke/anaconda3/envs/auto_edit/lib/python3.11/site-packages/ydata_profiling/model/typeset.py:125: FutureWarning: is_categorical_dtype is deprecated and will be removed in a future version. Use isinstance(dtype, CategoricalDtype) instead\n",
      "  not pdt.is_categorical_dtype(series)\n",
      "Summarize dataset:  20%|▏| 5/25 [00:01<00:03,  5.79it/s, Describe variable:Secto/Users/ryusuke/anaconda3/envs/auto_edit/lib/python3.11/site-packages/ydata_profiling/model/typeset.py:208: FutureWarning: is_categorical_dtype is deprecated and will be removed in a future version. Use isinstance(dtype, CategoricalDtype) instead\n",
      "  is_valid_dtype = pdt.is_categorical_dtype(series) and not pdt.is_bool_dtype(\n",
      "/Users/ryusuke/anaconda3/envs/auto_edit/lib/python3.11/site-packages/ydata_profiling/model/typeset.py:125: FutureWarning: is_categorical_dtype is deprecated and will be removed in a future version. Use isinstance(dtype, CategoricalDtype) instead\n",
      "  not pdt.is_categorical_dtype(series)\n",
      "/Users/ryusuke/anaconda3/envs/auto_edit/lib/python3.11/site-packages/ydata_profiling/model/typeset_relations.py:34: FutureWarning: is_categorical_dtype is deprecated and will be removed in a future version. Use isinstance(dtype, CategoricalDtype) instead\n",
      "  if pdt.is_categorical_dtype(series):\n",
      "Summarize dataset:  24%|▏| 6/25 [00:01<00:03,  5.74it/s, Describe variable:Appro/Users/ryusuke/anaconda3/envs/auto_edit/lib/python3.11/site-packages/ydata_profiling/model/typeset_relations.py:34: FutureWarning: is_categorical_dtype is deprecated and will be removed in a future version. Use isinstance(dtype, CategoricalDtype) instead\n",
      "  if pdt.is_categorical_dtype(series):\n",
      "/Users/ryusuke/anaconda3/envs/auto_edit/lib/python3.11/site-packages/ydata_profiling/model/typeset.py:208: FutureWarning: is_categorical_dtype is deprecated and will be removed in a future version. Use isinstance(dtype, CategoricalDtype) instead\n",
      "  is_valid_dtype = pdt.is_categorical_dtype(series) and not pdt.is_bool_dtype(\n",
      "/Users/ryusuke/anaconda3/envs/auto_edit/lib/python3.11/site-packages/ydata_profiling/model/typeset.py:125: FutureWarning: is_categorical_dtype is deprecated and will be removed in a future version. Use isinstance(dtype, CategoricalDtype) instead\n",
      "  not pdt.is_categorical_dtype(series)\n",
      "/Users/ryusuke/anaconda3/envs/auto_edit/lib/python3.11/site-packages/ydata_profiling/model/typeset_relations.py:34: FutureWarning: is_categorical_dtype is deprecated and will be removed in a future version. Use isinstance(dtype, CategoricalDtype) instead\n",
      "  if pdt.is_categorical_dtype(series):\n",
      "Summarize dataset:  28%|▎| 7/25 [00:01<00:03,  5.74it/s, Describe variable:Disbu/Users/ryusuke/anaconda3/envs/auto_edit/lib/python3.11/site-packages/ydata_profiling/model/typeset.py:208: FutureWarning: is_categorical_dtype is deprecated and will be removed in a future version. Use isinstance(dtype, CategoricalDtype) instead\n",
      "  is_valid_dtype = pdt.is_categorical_dtype(series) and not pdt.is_bool_dtype(\n",
      "Summarize dataset:  32%|▎| 8/25 [00:01<00:03,  4.90it/s, Describe variable:Disbu/Users/ryusuke/anaconda3/envs/auto_edit/lib/python3.11/site-packages/ydata_profiling/model/typeset.py:125: FutureWarning: is_categorical_dtype is deprecated and will be removed in a future version. Use isinstance(dtype, CategoricalDtype) instead\n",
      "  not pdt.is_categorical_dtype(series)\n",
      "/Users/ryusuke/anaconda3/envs/auto_edit/lib/python3.11/site-packages/ydata_profiling/model/typeset_relations.py:34: FutureWarning: is_categorical_dtype is deprecated and will be removed in a future version. Use isinstance(dtype, CategoricalDtype) instead\n",
      "  if pdt.is_categorical_dtype(series):\n",
      "/Users/ryusuke/anaconda3/envs/auto_edit/lib/python3.11/site-packages/ydata_profiling/model/typeset.py:208: FutureWarning: is_categorical_dtype is deprecated and will be removed in a future version. Use isinstance(dtype, CategoricalDtype) instead\n",
      "  is_valid_dtype = pdt.is_categorical_dtype(series) and not pdt.is_bool_dtype(\n",
      "/Users/ryusuke/anaconda3/envs/auto_edit/lib/python3.11/site-packages/ydata_profiling/model/typeset.py:125: FutureWarning: is_categorical_dtype is deprecated and will be removed in a future version. Use isinstance(dtype, CategoricalDtype) instead\n",
      "  not pdt.is_categorical_dtype(series)\n",
      "/Users/ryusuke/anaconda3/envs/auto_edit/lib/python3.11/site-packages/ydata_profiling/model/typeset.py:208: FutureWarning: is_categorical_dtype is deprecated and will be removed in a future version. Use isinstance(dtype, CategoricalDtype) instead\n",
      "  is_valid_dtype = pdt.is_categorical_dtype(series) and not pdt.is_bool_dtype(\n",
      "Summarize dataset:  32%|▎| 8/25 [00:02<00:03,  4.90it/s, Describe variable:NewEx/Users/ryusuke/anaconda3/envs/auto_edit/lib/python3.11/site-packages/ydata_profiling/model/typeset.py:208: FutureWarning: is_categorical_dtype is deprecated and will be removed in a future version. Use isinstance(dtype, CategoricalDtype) instead\n",
      "  is_valid_dtype = pdt.is_categorical_dtype(series) and not pdt.is_bool_dtype(\n",
      "/Users/ryusuke/anaconda3/envs/auto_edit/lib/python3.11/site-packages/ydata_profiling/model/typeset.py:208: FutureWarning: is_categorical_dtype is deprecated and will be removed in a future version. Use isinstance(dtype, CategoricalDtype) instead\n",
      "  is_valid_dtype = pdt.is_categorical_dtype(series) and not pdt.is_bool_dtype(\n",
      "/Users/ryusuke/anaconda3/envs/auto_edit/lib/python3.11/site-packages/ydata_profiling/model/typeset.py:125: FutureWarning: is_categorical_dtype is deprecated and will be removed in a future version. Use isinstance(dtype, CategoricalDtype) instead\n",
      "  not pdt.is_categorical_dtype(series)\n",
      "/Users/ryusuke/anaconda3/envs/auto_edit/lib/python3.11/site-packages/ydata_profiling/model/typeset.py:125: FutureWarning: is_categorical_dtype is deprecated and will be removed in a future version. Use isinstance(dtype, CategoricalDtype) instead\n",
      "  not pdt.is_categorical_dtype(series)\n",
      "/Users/ryusuke/anaconda3/envs/auto_edit/lib/python3.11/site-packages/ydata_profiling/model/typeset.py:208: FutureWarning: is_categorical_dtype is deprecated and will be removed in a future version. Use isinstance(dtype, CategoricalDtype) instead\n",
      "  is_valid_dtype = pdt.is_categorical_dtype(series) and not pdt.is_bool_dtype(\n",
      "/Users/ryusuke/anaconda3/envs/auto_edit/lib/python3.11/site-packages/ydata_profiling/model/typeset.py:125: FutureWarning: is_categorical_dtype is deprecated and will be removed in a future version. Use isinstance(dtype, CategoricalDtype) instead\n",
      "  not pdt.is_categorical_dtype(series)\n",
      "Summarize dataset:  36%|▎| 9/25 [00:02<00:04,  3.54it/s, Describe variable:NewEx/Users/ryusuke/anaconda3/envs/auto_edit/lib/python3.11/site-packages/ydata_profiling/model/typeset.py:208: FutureWarning: is_categorical_dtype is deprecated and will be removed in a future version. Use isinstance(dtype, CategoricalDtype) instead\n",
      "  is_valid_dtype = pdt.is_categorical_dtype(series) and not pdt.is_bool_dtype(\n",
      "/Users/ryusuke/anaconda3/envs/auto_edit/lib/python3.11/site-packages/ydata_profiling/model/typeset_relations.py:34: FutureWarning: is_categorical_dtype is deprecated and will be removed in a future version. Use isinstance(dtype, CategoricalDtype) instead\n",
      "  if pdt.is_categorical_dtype(series):\n",
      "/Users/ryusuke/anaconda3/envs/auto_edit/lib/python3.11/site-packages/ydata_profiling/model/typeset_relations.py:34: FutureWarning: is_categorical_dtype is deprecated and will be removed in a future version. Use isinstance(dtype, CategoricalDtype) instead\n",
      "  if pdt.is_categorical_dtype(series):\n",
      "/Users/ryusuke/anaconda3/envs/auto_edit/lib/python3.11/site-packages/ydata_profiling/model/typeset_relations.py:34: FutureWarning: is_categorical_dtype is deprecated and will be removed in a future version. Use isinstance(dtype, CategoricalDtype) instead\n",
      "  if pdt.is_categorical_dtype(series):\n",
      "/Users/ryusuke/anaconda3/envs/auto_edit/lib/python3.11/site-packages/ydata_profiling/model/typeset_relations.py:34: FutureWarning: is_categorical_dtype is deprecated and will be removed in a future version. Use isinstance(dtype, CategoricalDtype) instead\n",
      "  if pdt.is_categorical_dtype(series):\n",
      "Summarize dataset:  36%|▎| 9/25 [00:02<00:04,  3.54it/s, Describe variable:RevLi/Users/ryusuke/anaconda3/envs/auto_edit/lib/python3.11/site-packages/ydata_profiling/model/typeset.py:208: FutureWarning: is_categorical_dtype is deprecated and will be removed in a future version. Use isinstance(dtype, CategoricalDtype) instead\n",
      "  is_valid_dtype = pdt.is_categorical_dtype(series) and not pdt.is_bool_dtype(\n",
      "/Users/ryusuke/anaconda3/envs/auto_edit/lib/python3.11/site-packages/ydata_profiling/model/typeset.py:125: FutureWarning: is_categorical_dtype is deprecated and will be removed in a future version. Use isinstance(dtype, CategoricalDtype) instead\n",
      "  not pdt.is_categorical_dtype(series)\n",
      "/Users/ryusuke/anaconda3/envs/auto_edit/lib/python3.11/site-packages/ydata_profiling/model/typeset.py:125: FutureWarning: is_categorical_dtype is deprecated and will be removed in a future version. Use isinstance(dtype, CategoricalDtype) instead\n",
      "  not pdt.is_categorical_dtype(series)\n",
      "/Users/ryusuke/anaconda3/envs/auto_edit/lib/python3.11/site-packages/ydata_profiling/model/typeset.py:208: FutureWarning: is_categorical_dtype is deprecated and will be removed in a future version. Use isinstance(dtype, CategoricalDtype) instead\n",
      "  is_valid_dtype = pdt.is_categorical_dtype(series) and not pdt.is_bool_dtype(\n",
      "/Users/ryusuke/anaconda3/envs/auto_edit/lib/python3.11/site-packages/ydata_profiling/model/typeset.py:125: FutureWarning: is_categorical_dtype is deprecated and will be removed in a future version. Use isinstance(dtype, CategoricalDtype) instead\n",
      "  not pdt.is_categorical_dtype(series)\n",
      "Summarize dataset:  40%|▍| 10/25 [00:02<00:04,  3.29it/s, Describe variable:RevL/Users/ryusuke/anaconda3/envs/auto_edit/lib/python3.11/site-packages/ydata_profiling/model/typeset_relations.py:34: FutureWarning: is_categorical_dtype is deprecated and will be removed in a future version. Use isinstance(dtype, CategoricalDtype) instead\n",
      "  if pdt.is_categorical_dtype(series):\n",
      "/Users/ryusuke/anaconda3/envs/auto_edit/lib/python3.11/site-packages/ydata_profiling/model/typeset_relations.py:34: FutureWarning: is_categorical_dtype is deprecated and will be removed in a future version. Use isinstance(dtype, CategoricalDtype) instead\n",
      "  if pdt.is_categorical_dtype(series):\n",
      "/Users/ryusuke/anaconda3/envs/auto_edit/lib/python3.11/site-packages/ydata_profiling/model/typeset_relations.py:34: FutureWarning: is_categorical_dtype is deprecated and will be removed in a future version. Use isinstance(dtype, CategoricalDtype) instead\n",
      "  if pdt.is_categorical_dtype(series):\n",
      "Summarize dataset:  72%|▋| 18/25 [00:03<00:00,  9.73it/s, Describe variable:Disb/Users/ryusuke/anaconda3/envs/auto_edit/lib/python3.11/site-packages/ydata_profiling/model/typeset.py:208: FutureWarning: is_categorical_dtype is deprecated and will be removed in a future version. Use isinstance(dtype, CategoricalDtype) instead\n",
      "  is_valid_dtype = pdt.is_categorical_dtype(series) and not pdt.is_bool_dtype(\n",
      "/Users/ryusuke/anaconda3/envs/auto_edit/lib/python3.11/site-packages/ydata_profiling/model/typeset.py:125: FutureWarning: is_categorical_dtype is deprecated and will be removed in a future version. Use isinstance(dtype, CategoricalDtype) instead\n",
      "  not pdt.is_categorical_dtype(series)\n",
      "Summarize dataset:  81%|▊| 22/27 [00:09<00:04,  1.02it/s, Calculate auto correla/Users/ryusuke/anaconda3/envs/auto_edit/lib/python3.11/site-packages/ydata_profiling/model/correlations.py:66: UserWarning: There was an attempt to calculate the auto correlation, but this failed.\n",
      "To hide this warning, disable the calculation\n",
      "(using `df.profile_report(correlations={\"auto\": {\"calculate\": False}})`\n",
      "If this is problematic for your use case, please report this as an issue:\n",
      "https://github.com/ydataai/ydata-profiling/issues\n",
      "(include the error message: 'could not convert string to float: 'N'')\n",
      "  warnings.warn(\n",
      "Summarize dataset:  94%|▉| 74/79 [00:15<00:01,  4.38it/s, Missing diagram heatma/Users/ryusuke/anaconda3/envs/auto_edit/lib/python3.11/site-packages/seaborn/matrix.py:260: FutureWarning: Format strings passed to MaskedConstant are ignored, but in future may error or produce different behavior\n",
      "  annotation = (\"{:\" + self.fmt + \"}\").format(val)\n",
      "/Users/ryusuke/anaconda3/envs/auto_edit/lib/python3.11/site-packages/ydata_profiling/model/missing.py:78: UserWarning: There was an attempt to generate the Heatmap missing values diagrams, but this failed.\n",
      "To hide this warning, disable the calculation\n",
      "(using `df.profile_report(missing_diagrams={\"Heatmap\": False}`)\n",
      "If this is problematic for your use case, please report this as an issue:\n",
      "https://github.com/ydataai/ydata-profiling/issues\n",
      "(include the error message: 'could not convert string to float: '--'')\n",
      "  warnings.warn(\n",
      "Summarize dataset: 100%|█████████████| 79/79 [00:16<00:00,  4.88it/s, Completed]\n",
      "Generate report structure: 100%|██████████████████| 1/1 [00:08<00:00,  8.39s/it]\n",
      "Render HTML: 100%|████████████████████████████████| 1/1 [00:01<00:00,  1.88s/it]\n",
      "Export report to file: 100%|█████████████████████| 1/1 [00:00<00:00, 109.68it/s]\n"
     ]
    }
   ],
   "source": [
    "profile = pdp.ProfileReport(train_data)\n",
    "profile.to_file(\"myoutputfile.html\")"
   ]
  },
  {
   "cell_type": "markdown",
   "id": "8641f56c-ed21-48d9-9ddb-fa764ac441e4",
   "metadata": {},
   "source": [
    "## データ詳細"
   ]
  },
  {
   "cell_type": "markdown",
   "id": "edb91b6c-ee17-491b-8e53-b685783eb509",
   "metadata": {},
   "source": [
    "### 金額関連"
   ]
  },
  {
   "cell_type": "code",
   "execution_count": 20,
   "id": "02b5d936-46f9-4421-be30-c0f608a5b939",
   "metadata": {},
   "outputs": [
    {
     "data": {
      "text/html": [
       "<div>\n",
       "<style scoped>\n",
       "    .dataframe tbody tr th:only-of-type {\n",
       "        vertical-align: middle;\n",
       "    }\n",
       "\n",
       "    .dataframe tbody tr th {\n",
       "        vertical-align: top;\n",
       "    }\n",
       "\n",
       "    .dataframe thead th {\n",
       "        text-align: right;\n",
       "    }\n",
       "</style>\n",
       "<table border=\"1\" class=\"dataframe\">\n",
       "  <thead>\n",
       "    <tr style=\"text-align: right;\">\n",
       "      <th></th>\n",
       "      <th>DisbursementGross</th>\n",
       "      <th>SBA_Appv</th>\n",
       "      <th>GrAppv</th>\n",
       "    </tr>\n",
       "  </thead>\n",
       "  <tbody>\n",
       "    <tr>\n",
       "      <th>0</th>\n",
       "      <td>$80,000.00</td>\n",
       "      <td>$68,000.00</td>\n",
       "      <td>$80,000.00</td>\n",
       "    </tr>\n",
       "    <tr>\n",
       "      <th>1</th>\n",
       "      <td>$287,000.00</td>\n",
       "      <td>$229,600.00</td>\n",
       "      <td>$287,000.00</td>\n",
       "    </tr>\n",
       "    <tr>\n",
       "      <th>2</th>\n",
       "      <td>$31,983.00</td>\n",
       "      <td>$15,000.00</td>\n",
       "      <td>$30,000.00</td>\n",
       "    </tr>\n",
       "    <tr>\n",
       "      <th>3</th>\n",
       "      <td>$229,000.00</td>\n",
       "      <td>$229,000.00</td>\n",
       "      <td>$229,000.00</td>\n",
       "    </tr>\n",
       "    <tr>\n",
       "      <th>4</th>\n",
       "      <td>$525,000.00</td>\n",
       "      <td>$393,750.00</td>\n",
       "      <td>$525,000.00</td>\n",
       "    </tr>\n",
       "  </tbody>\n",
       "</table>\n",
       "</div>"
      ],
      "text/plain": [
       "  DisbursementGross      SBA_Appv        GrAppv\n",
       "0       $80,000.00    $68,000.00    $80,000.00 \n",
       "1      $287,000.00   $229,600.00   $287,000.00 \n",
       "2       $31,983.00    $15,000.00    $30,000.00 \n",
       "3      $229,000.00   $229,000.00   $229,000.00 \n",
       "4      $525,000.00   $393,750.00   $525,000.00 "
      ]
     },
     "execution_count": 20,
     "metadata": {},
     "output_type": "execute_result"
    }
   ],
   "source": [
    "train_data[[\"DisbursementGross\", \"SBA_Appv\", \"GrAppv\"]].head()"
   ]
  },
  {
   "cell_type": "markdown",
   "id": "c6d5c7c4-9abb-47bb-8c68-611ea5738171",
   "metadata": {},
   "source": [
    "### 日付関連"
   ]
  },
  {
   "cell_type": "code",
   "execution_count": 22,
   "id": "54a962e7-0047-466a-9dd2-8470840aca51",
   "metadata": {},
   "outputs": [
    {
     "data": {
      "text/html": [
       "<div>\n",
       "<style scoped>\n",
       "    .dataframe tbody tr th:only-of-type {\n",
       "        vertical-align: middle;\n",
       "    }\n",
       "\n",
       "    .dataframe tbody tr th {\n",
       "        vertical-align: top;\n",
       "    }\n",
       "\n",
       "    .dataframe thead th {\n",
       "        text-align: right;\n",
       "    }\n",
       "</style>\n",
       "<table border=\"1\" class=\"dataframe\">\n",
       "  <thead>\n",
       "    <tr style=\"text-align: right;\">\n",
       "      <th></th>\n",
       "      <th>DisbursementDate</th>\n",
       "      <th>ApprovalDate</th>\n",
       "    </tr>\n",
       "  </thead>\n",
       "  <tbody>\n",
       "    <tr>\n",
       "      <th>0</th>\n",
       "      <td>31-Jan-98</td>\n",
       "      <td>22-Sep-06</td>\n",
       "    </tr>\n",
       "    <tr>\n",
       "      <th>1</th>\n",
       "      <td>31-Oct-93</td>\n",
       "      <td>30-Jun-92</td>\n",
       "    </tr>\n",
       "    <tr>\n",
       "      <th>2</th>\n",
       "      <td>31-Aug-01</td>\n",
       "      <td>18-Apr-01</td>\n",
       "    </tr>\n",
       "    <tr>\n",
       "      <th>3</th>\n",
       "      <td>31-Aug-07</td>\n",
       "      <td>6-Oct-03</td>\n",
       "    </tr>\n",
       "    <tr>\n",
       "      <th>4</th>\n",
       "      <td>8-Jun-83</td>\n",
       "      <td>17-Dec-99</td>\n",
       "    </tr>\n",
       "  </tbody>\n",
       "</table>\n",
       "</div>"
      ],
      "text/plain": [
       "  DisbursementDate ApprovalDate\n",
       "0        31-Jan-98    22-Sep-06\n",
       "1        31-Oct-93    30-Jun-92\n",
       "2        31-Aug-01    18-Apr-01\n",
       "3        31-Aug-07     6-Oct-03\n",
       "4         8-Jun-83    17-Dec-99"
      ]
     },
     "execution_count": 22,
     "metadata": {},
     "output_type": "execute_result"
    }
   ],
   "source": [
    "train_data[[\n",
    "    \"DisbursementDate\", # 融資の支払日\n",
    "    \"ApprovalDate\", # SBAの承認日\n",
    "]].head()"
   ]
  },
  {
   "cell_type": "code",
   "execution_count": 27,
   "id": "0b11b329-9836-4e13-903c-dd6dac964eae",
   "metadata": {},
   "outputs": [
    {
     "name": "stdout",
     "output_type": "stream",
     "text": [
      "融資支払日が承認日よりも前：28008\n",
      "承認日が融資支払日よりも前：14148\n"
     ]
    }
   ],
   "source": [
    "print(f'融資支払日が承認日よりも前：{train_data[train_data[\"DisbursementDate\"] > train_data[\"ApprovalDate\"]].shape[0]}')\n",
    "print(f'承認日が融資支払日よりも前：{train_data[train_data[\"DisbursementDate\"] < train_data[\"ApprovalDate\"]].shape[0]}')"
   ]
  },
  {
   "cell_type": "code",
   "execution_count": 47,
   "id": "ea20ad10-957e-4ed8-b026-221ed8c47642",
   "metadata": {},
   "outputs": [
    {
     "data": {
      "text/plain": [
       "0.10731084690476753"
      ]
     },
     "execution_count": 47,
     "metadata": {},
     "output_type": "execute_result"
    }
   ],
   "source": [
    "train_data['MIS_Status'].value_counts(normalize=True)[0]"
   ]
  },
  {
   "cell_type": "code",
   "execution_count": 50,
   "id": "41443944-7ae2-46b8-9336-2097e930cc77",
   "metadata": {},
   "outputs": [
    {
     "data": {
      "text/plain": [
       "array([0.1, 0.2, 0.3, 0.4, 0.7])"
      ]
     },
     "execution_count": 50,
     "metadata": {},
     "output_type": "execute_result"
    }
   ],
   "source": [
    "y_pred_proba = np.array([0.1, 0.2, 0.3, 0.4, 0.7])\n",
    "np.sort(y_pred_proba)"
   ]
  },
  {
   "cell_type": "code",
   "execution_count": 54,
   "id": "94b8e2c1-5b40-46f0-bba4-5b25a90da4ac",
   "metadata": {},
   "outputs": [
    {
     "data": {
      "text/plain": [
       "array([0.        , 0.01034483, 0.02068966, 0.03103448, 0.04137931,\n",
       "       0.05172414, 0.06206897, 0.07241379, 0.08275862, 0.09310345,\n",
       "       0.10344828, 0.1137931 , 0.12413793, 0.13448276, 0.14482759,\n",
       "       0.15517241, 0.16551724, 0.17586207, 0.1862069 , 0.19655172,\n",
       "       0.20689655, 0.21724138, 0.22758621, 0.23793103, 0.24827586,\n",
       "       0.25862069, 0.26896552, 0.27931034, 0.28965517, 0.3       ])"
      ]
     },
     "execution_count": 54,
     "metadata": {},
     "output_type": "execute_result"
    }
   ],
   "source": [
    " np.linspace(0, 0.3, 30)"
   ]
  },
  {
   "cell_type": "code",
   "execution_count": 58,
   "id": "bdee9756-4991-418f-80a1-ec8c25a0b6c1",
   "metadata": {
    "scrolled": true
   },
   "outputs": [
    {
     "data": {
      "text/plain": [
       "0        1.0\n",
       "1        1.0\n",
       "2        1.0\n",
       "3        1.0\n",
       "4        1.0\n",
       "        ... \n",
       "42302    1.0\n",
       "42303    1.0\n",
       "42304    1.0\n",
       "42305    1.0\n",
       "42306    1.0\n",
       "Name: FranchiseCode, Length: 42307, dtype: float64"
      ]
     },
     "execution_count": 58,
     "metadata": {},
     "output_type": "execute_result"
    }
   ],
   "source": [
    "train_data[\"FranchiseCode\"].map({1000000000: 3}).fillna(1)"
   ]
  },
  {
   "cell_type": "code",
   "execution_count": null,
   "id": "8deb9cfc-57d1-4342-a9a1-a1f564f4ba86",
   "metadata": {},
   "outputs": [],
   "source": []
  }
 ],
 "metadata": {
  "kernelspec": {
   "display_name": "Python 3 (ipykernel)",
   "language": "python",
   "name": "python3"
  },
  "language_info": {
   "codemirror_mode": {
    "name": "ipython",
    "version": 3
   },
   "file_extension": ".py",
   "mimetype": "text/x-python",
   "name": "python",
   "nbconvert_exporter": "python",
   "pygments_lexer": "ipython3",
   "version": "3.11.5"
  }
 },
 "nbformat": 4,
 "nbformat_minor": 5
}
