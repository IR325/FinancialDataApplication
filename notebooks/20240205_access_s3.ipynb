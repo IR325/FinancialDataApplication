{
 "cells": [
  {
   "cell_type": "code",
   "execution_count": 1,
   "id": "90576de5-1690-4875-bb4d-1c1a2d1b5b61",
   "metadata": {},
   "outputs": [],
   "source": [
    "import pandas as pd\n",
    "import boto3\n",
    "import os"
   ]
  },
  {
   "cell_type": "markdown",
   "id": "9d88e52f-82ee-4f1b-88b9-bfdcb718b7ec",
   "metadata": {},
   "source": [
    "# 環境設定"
   ]
  },
  {
   "cell_type": "code",
   "execution_count": 2,
   "id": "3ccb9e40-17e5-4c93-80ed-8ee2e7299fb4",
   "metadata": {},
   "outputs": [],
   "source": [
    "BUCKET = \"ryusuke-data-competition\"\n",
    "RESULT_PATH = os.path.join(f\"s3://{BUCKET}\", \"results/\")"
   ]
  },
  {
   "cell_type": "markdown",
   "id": "44db400c-de88-4862-b7c8-45dad79e2adb",
   "metadata": {},
   "source": [
    "# 分析"
   ]
  },
  {
   "cell_type": "code",
   "execution_count": 6,
   "id": "4b88abb7-4515-42ca-bd4a-8b66621b2cec",
   "metadata": {},
   "outputs": [
    {
     "name": "stdout",
     "output_type": "stream",
     "text": [
      "                           PRE 20240205_02/\n",
      "2024-02-05 22:23:37          0 \n",
      "2024-02-05 22:59:45     338464 20240205_02.csv\n",
      "2024-02-05 22:59:42        114 summary.csv\n"
     ]
    }
   ],
   "source": [
    "!aws s3 ls s3://ryusuke-data-competition/results/"
   ]
  },
  {
   "cell_type": "code",
   "execution_count": 11,
   "id": "3ccefb09-1788-495a-ad0a-02a9af12e45f",
   "metadata": {},
   "outputs": [],
   "source": [
    "df = pd.read_csv(os.path.join(RESULT_PATH, \"summary.csv\"))"
   ]
  },
  {
   "cell_type": "code",
   "execution_count": 12,
   "id": "659ef674-36bd-4f0e-849f-738c1c6c94a2",
   "metadata": {},
   "outputs": [
    {
     "data": {
      "text/html": [
       "<div>\n",
       "<style scoped>\n",
       "    .dataframe tbody tr th:only-of-type {\n",
       "        vertical-align: middle;\n",
       "    }\n",
       "\n",
       "    .dataframe tbody tr th {\n",
       "        vertical-align: top;\n",
       "    }\n",
       "\n",
       "    .dataframe thead th {\n",
       "        text-align: right;\n",
       "    }\n",
       "</style>\n",
       "<table border=\"1\" class=\"dataframe\">\n",
       "  <thead>\n",
       "    <tr style=\"text-align: right;\">\n",
       "      <th></th>\n",
       "      <th>experiment_name</th>\n",
       "      <th>cv_score</th>\n",
       "      <th>MEMO</th>\n",
       "      <th>board_score</th>\n",
       "    </tr>\n",
       "  </thead>\n",
       "  <tbody>\n",
       "    <tr>\n",
       "      <th>0</th>\n",
       "      <td>20240205_02</td>\n",
       "      <td>0.505537</td>\n",
       "      <td>EC2で動かせるかのチェック用</td>\n",
       "      <td>NaN</td>\n",
       "    </tr>\n",
       "  </tbody>\n",
       "</table>\n",
       "</div>"
      ],
      "text/plain": [
       "  experiment_name  cv_score             MEMO  board_score\n",
       "0     20240205_02  0.505537  EC2で動かせるかのチェック用          NaN"
      ]
     },
     "execution_count": 12,
     "metadata": {},
     "output_type": "execute_result"
    }
   ],
   "source": [
    "df"
   ]
  },
  {
   "cell_type": "code",
   "execution_count": null,
   "id": "977d4f3a-66ef-4e43-923d-92393afff9c6",
   "metadata": {},
   "outputs": [],
   "source": [
    "s3 = boto3.resource('s3')\n",
    "my_pickle = pickle.loads(s3.Bucket(BUCKET).Object(\"results/\").get()['Body'].read())"
   ]
  }
 ],
 "metadata": {
  "kernelspec": {
   "display_name": "Python 3 (ipykernel)",
   "language": "python",
   "name": "python3"
  },
  "language_info": {
   "codemirror_mode": {
    "name": "ipython",
    "version": 3
   },
   "file_extension": ".py",
   "mimetype": "text/x-python",
   "name": "python",
   "nbconvert_exporter": "python",
   "pygments_lexer": "ipython3",
   "version": "3.9.18"
  }
 },
 "nbformat": 4,
 "nbformat_minor": 5
}
