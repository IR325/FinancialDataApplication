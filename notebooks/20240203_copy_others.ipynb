{
 "cells": [
  {
   "cell_type": "code",
   "execution_count": 1,
   "id": "1e9674d6-24b4-47ab-abcd-f0e8218a77c0",
   "metadata": {},
   "outputs": [],
   "source": [
    "import os\n",
    "import warnings\n",
    "warnings.filterwarnings('ignore')\n",
    "import random\n",
    "import scipy as sp\n",
    "import numpy as np\n",
    "import pandas as pd\n",
    "from glob import glob\n",
    "from pathlib import Path\n",
    "import pickle\n",
    "import itertools\n",
    "from tqdm.auto import tqdm\n",
    "\n",
    "from sklearn.model_selection import KFold, StratifiedKFold, train_test_split, GroupKFold\n",
    "from sklearn.metrics import log_loss, roc_auc_score, matthews_corrcoef, f1_score\n",
    "from sklearn.preprocessing import LabelEncoder\n",
    "import lightgbm as lgb\n",
    "from catboost import Pool, CatBoostRegressor, CatBoostClassifier"
   ]
  },
  {
   "cell_type": "markdown",
   "id": "95b22b6c-aea4-45b4-a88b-7b42664be99a",
   "metadata": {},
   "source": [
    "# 環境設定"
   ]
  },
  {
   "cell_type": "code",
   "execution_count": 2,
   "id": "6c30ea14-e84d-40e3-bb4b-a7e317d015f0",
   "metadata": {},
   "outputs": [],
   "source": [
    "DATA_PATH = \"../data\""
   ]
  },
  {
   "cell_type": "markdown",
   "id": "532d8453-924d-4b30-9cb4-47da34378479",
   "metadata": {},
   "source": [
    "# 分析"
   ]
  },
  {
   "cell_type": "code",
   "execution_count": 16,
   "id": "7b0d366c-ffd0-4935-b7a2-12bccb46cb88",
   "metadata": {},
   "outputs": [
    {
     "name": "stdout",
     "output_type": "stream",
     "text": [
      "(42307, 20)\n"
     ]
    }
   ],
   "source": [
    "train_df = pd.read_csv(os.path.join(DATA_PATH, 'train.csv'), index_col=0)\n",
    "print(train_df.shape)"
   ]
  },
  {
   "cell_type": "code",
   "execution_count": 17,
   "id": "15c1b8b0-7970-416f-9b4b-44912a52020b",
   "metadata": {},
   "outputs": [],
   "source": [
    "default_numerical_features = ['Term', 'NoEmp', 'CreateJob', 'RetainedJob', 'DisbursementGross', 'GrAppv', 'SBA_Appv', 'ApprovalFY']\n",
    "default_categorical_features = ['NewExist', 'FranchiseCode', 'RevLineCr', 'LowDoc', 'UrbanRural', 'State', 'BankState', 'City', 'Sector']\n",
    "add_numerical_features = ['FranchiseCode_count_encoding', 'RevLineCr_count_encoding', 'LowDoc_count_encoding', 'UrbanRural_count_encoding', 'State_count_encoding', 'BankState_count_encoding', 'City_count_encoding', 'Sector_count_encoding']\n",
    "numerical_features = add_numerical_features + default_numerical_features\n",
    "categorical_features = ['RevLineCr', 'LowDoc', 'UrbanRural', 'State', 'Sector']\n",
    "features = numerical_features + categorical_features"
   ]
  },
  {
   "cell_type": "code",
   "execution_count": 18,
   "id": "c922ecb4-935e-463b-bb64-85dd0ab18893",
   "metadata": {},
   "outputs": [],
   "source": [
    "def Preprocessing(input_df: pd.DataFrame()) -> pd.DataFrame():\n",
    "    def deal_missing(input_df: pd.DataFrame()) -> pd.DataFrame():\n",
    "        output_df = input_df.copy()\n",
    "        for col in ['RevLineCr', 'LowDoc', 'BankState', 'DisbursementDate']:\n",
    "            output_df[col] = input_df[col].fillna('[UNK]')\n",
    "        return output_df\n",
    "    def clean_money(input_df: pd.DataFrame()) -> pd.DataFrame():\n",
    "        output_df = input_df.copy()\n",
    "        for col in ['DisbursementGross', 'GrAppv', 'SBA_Appv']:\n",
    "            output_df[col] = input_df[col].str[1:].str.replace(',', '').str.replace(' ', '').astype(float)\n",
    "        return output_df\n",
    "    output_df = deal_missing(input_df)\n",
    "    output_df = clean_money(output_df)\n",
    "    output_df['NewExist'] = np.where(input_df['NewExist'] == 1, 1, 0)\n",
    "    def make_features(input_df: pd.DataFrame()) -> pd.DataFrame():\n",
    "        output_df = input_df.copy()\n",
    "        # いろいろ特徴量作成を追加する\n",
    "        return output_df\n",
    "    output_df = make_features(output_df)\n",
    "    return output_df"
   ]
  },
  {
   "cell_type": "code",
   "execution_count": 19,
   "id": "17fdbab7-1c36-4f5a-897a-6311093662e7",
   "metadata": {},
   "outputs": [
    {
     "name": "stdout",
     "output_type": "stream",
     "text": [
      "(42307, 20)\n"
     ]
    }
   ],
   "source": [
    "train_df = Preprocessing(train_df)\n",
    "print(train_df.shape)"
   ]
  },
  {
   "cell_type": "code",
   "execution_count": 20,
   "id": "f860bcc4-f870-4903-90b1-791a00cab547",
   "metadata": {},
   "outputs": [
    {
     "name": "stdout",
     "output_type": "stream",
     "text": [
      "(42307, 28)\n"
     ]
    }
   ],
   "source": [
    "for col in ['FranchiseCode', 'RevLineCr', 'LowDoc', 'UrbanRural', 'State', 'BankState', 'City', 'Sector']:\n",
    "    count_dict = dict(train_df[col].value_counts())\n",
    "    train_df[f'{col}_count_encoding'] = train_df[col].map(count_dict)\n",
    "print(train_df.shape)"
   ]
  },
  {
   "cell_type": "code",
   "execution_count": 21,
   "id": "e97a0ca3-7080-4f7b-9304-adab4650ed36",
   "metadata": {},
   "outputs": [
    {
     "name": "stdout",
     "output_type": "stream",
     "text": [
      "(42307, 28)\n"
     ]
    }
   ],
   "source": [
    "for col in categorical_features:\n",
    "    encoder = LabelEncoder()\n",
    "    encoder.fit(train_df[col])\n",
    "    train_df[col] = encoder.transform(train_df[col])\n",
    "print(train_df.shape)"
   ]
  },
  {
   "cell_type": "code",
   "execution_count": 22,
   "id": "ed77f690-8a2d-4d5a-aec0-85ffca3bee88",
   "metadata": {},
   "outputs": [
    {
     "data": {
      "text/plain": [
       "Index(['Term', 'NoEmp', 'NewExist', 'CreateJob', 'RetainedJob',\n",
       "       'FranchiseCode', 'RevLineCr', 'LowDoc', 'DisbursementDate',\n",
       "       'MIS_Status', 'Sector', 'ApprovalDate', 'ApprovalFY', 'City', 'State',\n",
       "       'BankState', 'DisbursementGross', 'GrAppv', 'SBA_Appv', 'UrbanRural',\n",
       "       'FranchiseCode_count_encoding', 'RevLineCr_count_encoding',\n",
       "       'LowDoc_count_encoding', 'UrbanRural_count_encoding',\n",
       "       'State_count_encoding', 'BankState_count_encoding',\n",
       "       'City_count_encoding', 'Sector_count_encoding'],\n",
       "      dtype='object')"
      ]
     },
     "execution_count": 22,
     "metadata": {},
     "output_type": "execute_result"
    }
   ],
   "source": [
    "train_df.columns"
   ]
  },
  {
   "cell_type": "code",
   "execution_count": 24,
   "id": "147d3501-f2a2-40c2-b9ed-9a7088367ba3",
   "metadata": {},
   "outputs": [
    {
     "data": {
      "text/plain": [
       "['ApprovalDate',\n",
       " 'MIS_Status',\n",
       " 'DisbursementDate',\n",
       " 'FranchiseCode',\n",
       " 'NewExist',\n",
       " 'BankState',\n",
       " 'City']"
      ]
     },
     "execution_count": 24,
     "metadata": {},
     "output_type": "execute_result"
    }
   ],
   "source": [
    "list(set(train_df.columns) -set(features))"
   ]
  },
  {
   "cell_type": "code",
   "execution_count": 25,
   "id": "5518c370-92ef-4301-83f9-a8bc4ea9d278",
   "metadata": {},
   "outputs": [
    {
     "data": {
      "text/plain": [
       "21"
      ]
     },
     "execution_count": 25,
     "metadata": {},
     "output_type": "execute_result"
    }
   ],
   "source": [
    "len(features)"
   ]
  },
  {
   "cell_type": "code",
   "execution_count": null,
   "id": "e5532d5e-d115-46e9-ae0c-1c8f65dde3a6",
   "metadata": {},
   "outputs": [],
   "source": []
  }
 ],
 "metadata": {
  "kernelspec": {
   "display_name": "Python 3 (ipykernel)",
   "language": "python",
   "name": "python3"
  },
  "language_info": {
   "codemirror_mode": {
    "name": "ipython",
    "version": 3
   },
   "file_extension": ".py",
   "mimetype": "text/x-python",
   "name": "python",
   "nbconvert_exporter": "python",
   "pygments_lexer": "ipython3",
   "version": "3.9.18"
  }
 },
 "nbformat": 4,
 "nbformat_minor": 5
}
