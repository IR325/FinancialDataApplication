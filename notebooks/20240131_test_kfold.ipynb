{
 "cells": [
  {
   "cell_type": "code",
   "execution_count": 1,
   "id": "bd0d9212-68bf-45a3-9d7a-0ced23ce9d73",
   "metadata": {},
   "outputs": [],
   "source": [
    "import itertools\n",
    "import os\n",
    "import random\n",
    "import warnings\n",
    "from dataclasses import dataclass\n",
    "\n",
    "import lightgbm as lgb\n",
    "import numpy as np\n",
    "import pandas as pd\n",
    "from catboost import CatBoostClassifier, Pool\n",
    "from sklearn.metrics import f1_score\n",
    "from sklearn.model_selection import KFold, train_test_split"
   ]
  },
  {
   "cell_type": "code",
   "execution_count": 38,
   "id": "938999f4-8af1-4c28-86a8-6af52f08f014",
   "metadata": {},
   "outputs": [],
   "source": [
    "class AdvancedKfold:\n",
    "    def __init__(self, n_splits, random_state):\n",
    "        self.n_splits = n_splits\n",
    "        random.seed(random_state)\n",
    "        self.past_train_indicies = []\n",
    "        self.past_eval_indicies = []\n",
    "        self.past_valid_indicies = []\n",
    "\n",
    "    def split(self, X: pd.DataFrame):\n",
    "        indicies = list(X.index)\n",
    "        n_sample = int(len(indicies) / self.n_splits)\n",
    "        for i in range(self.n_splits - 1):\n",
    "            # 抽出\n",
    "            eval_indicies = random.sample(list(set(indicies) - set(self.past_eval_indicies)), n_sample)\n",
    "            valid_indicies = random.sample(list(set(indicies) - set(eval_indicies) - set(self.past_valid_indicies)), n_sample)\n",
    "            train_indicies = list(set(indicies) - set(eval_indicies) - set(valid_indicies))\n",
    "            # 格納\n",
    "            self.past_eval_indicies += eval_indicies\n",
    "            self.past_valid_indicies += valid_indicies\n",
    "            yield train_indicies, eval_indicies, valid_indicies\n",
    "        eval_indicies = list(set(indicies) - set(self.past_eval_indicies))\n",
    "        valid_indicies = list(set(indicies) - set(eval_indicies) - set(self.past_valid_indicies))\n",
    "        train_indicies = list(set(indicies) - set(eval_indicies) - set(valid_indicies))\n",
    "        yield train_indicies, eval_indicies, valid_indicies"
   ]
  },
  {
   "cell_type": "code",
   "execution_count": 62,
   "id": "f590074a-d8bd-4e15-8fae-1f45a324c295",
   "metadata": {},
   "outputs": [],
   "source": [
    "class AdvancedKfold:\n",
    "    def __init__(self, n_splits, random_state):\n",
    "        self.n_splits = n_splits\n",
    "        random.seed(random_state)\n",
    "\n",
    "    def split(self, X: pd.DataFrame):\n",
    "        indicies = list(X.index)\n",
    "        indicies = random.sample(indicies, len(indicies))\n",
    "        n_sample = int(len(indicies) / self.n_splits)\n",
    "        for i in range(self.n_splits):\n",
    "            # 抽出\n",
    "            eval_indicies = indicies[n_sample*i: n_sample*(i+1)]\n",
    "            if n_sample*(i+2) <= len(indicies):\n",
    "                valid_indicies = indicies[n_sample*(i+1): n_sample*(i+2)]\n",
    "            else: \n",
    "                valid_indicies = indicies[0: n_sample]\n",
    "            train_indicies = list(set(indicies) - set(eval_indicies) - set(valid_indicies))\n",
    "            yield train_indicies, eval_indicies, valid_indicies"
   ]
  },
  {
   "cell_type": "code",
   "execution_count": 63,
   "id": "35322746-4aa0-4523-875c-66accc3c7928",
   "metadata": {},
   "outputs": [],
   "source": [
    "advanced_kfold = AdvancedKfold(n_splits=5, random_state=42)"
   ]
  },
  {
   "cell_type": "code",
   "execution_count": 64,
   "id": "75c6519f-04fa-4503-b4a8-332534290a64",
   "metadata": {},
   "outputs": [
    {
     "name": "stdout",
     "output_type": "stream",
     "text": [
      "0\n",
      "1\n",
      "2\n",
      "3\n",
      "4\n"
     ]
    }
   ],
   "source": [
    "b_list = []\n",
    "c_list = []\n",
    "cnt = 0\n",
    "for a, b, c in advanced_kfold.split(pd.DataFrame(index=np.arange(0, 100, 1))):\n",
    "    b_list += b\n",
    "    c_list += c\n",
    "    print(cnt)\n",
    "    if len(set(a) & set(b)) >= 1:\n",
    "        print(\"a & b Alert\")\n",
    "    if len(set(b) & set(c)) >= 1:\n",
    "        print(\"b & c Alert\")\n",
    "    if len(set(c) & set(a)) >= 1:\n",
    "        print(\"c & a Alert\")\n",
    "    cnt+=1"
   ]
  },
  {
   "cell_type": "code",
   "execution_count": 65,
   "id": "1c24d1c4-0113-41f8-9754-7ba87b6593fc",
   "metadata": {},
   "outputs": [
    {
     "name": "stdout",
     "output_type": "stream",
     "text": [
      "100\n",
      "100\n"
     ]
    }
   ],
   "source": [
    "print(len(set(b_list)))\n",
    "print(len(b_list))"
   ]
  },
  {
   "cell_type": "code",
   "execution_count": 66,
   "id": "b2b3eb5e-98f1-4115-84a8-62037d558b7b",
   "metadata": {},
   "outputs": [
    {
     "name": "stdout",
     "output_type": "stream",
     "text": [
      "100\n",
      "100\n"
     ]
    }
   ],
   "source": [
    "print(len(set(c_list)))\n",
    "print(len(c_list))"
   ]
  },
  {
   "cell_type": "code",
   "execution_count": null,
   "id": "adb9d495-cd8b-46c6-b459-f25335042aea",
   "metadata": {},
   "outputs": [],
   "source": []
  }
 ],
 "metadata": {
  "kernelspec": {
   "display_name": "Python 3 (ipykernel)",
   "language": "python",
   "name": "python3"
  },
  "language_info": {
   "codemirror_mode": {
    "name": "ipython",
    "version": 3
   },
   "file_extension": ".py",
   "mimetype": "text/x-python",
   "name": "python",
   "nbconvert_exporter": "python",
   "pygments_lexer": "ipython3",
   "version": "3.9.18"
  }
 },
 "nbformat": 4,
 "nbformat_minor": 5
}
