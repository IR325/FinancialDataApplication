{
 "cells": [
  {
   "cell_type": "code",
   "execution_count": 47,
   "id": "394a1c22-687c-4631-9176-01193616033e",
   "metadata": {},
   "outputs": [],
   "source": [
    "import os\n",
    "import pandas as pd\n",
    "import datetime\n",
    "import numpy as np\n",
    "import plotly.graph_objects as go\n",
    "from plotly.subplots import make_subplots\n",
    "import warnings\n",
    "warnings.simplefilter('ignore')"
   ]
  },
  {
   "cell_type": "markdown",
   "id": "d1b1abfb-b57f-47c0-874f-1a5d71ac9c19",
   "metadata": {},
   "source": [
    "# 環境設定"
   ]
  },
  {
   "cell_type": "code",
   "execution_count": 3,
   "id": "9399b4a6-0b10-4562-a248-b1437a49933a",
   "metadata": {},
   "outputs": [],
   "source": [
    "DATA_PATH = \"../data\""
   ]
  },
  {
   "cell_type": "markdown",
   "id": "a79e1642-884a-445e-a723-55b96e8cc10a",
   "metadata": {},
   "source": [
    "# 分析"
   ]
  },
  {
   "cell_type": "markdown",
   "id": "1124e461-4abf-47aa-8da8-40181743a7a0",
   "metadata": {},
   "source": [
    "## データ読み込み"
   ]
  },
  {
   "cell_type": "code",
   "execution_count": 37,
   "id": "3d0beb44-b68a-47f2-a99e-76dc53548060",
   "metadata": {},
   "outputs": [],
   "source": [
    "train_data = pd.read_csv(os.path.join(DATA_PATH, \"train.csv\"), index_col=0)\n",
    "test_data = pd.read_csv(os.path.join(DATA_PATH, \"test.csv\"), index_col=0)"
   ]
  },
  {
   "cell_type": "markdown",
   "id": "78c8d57f-2b75-40af-9562-d702029ea08a",
   "metadata": {},
   "source": [
    "## 前処理"
   ]
  },
  {
   "cell_type": "code",
   "execution_count": 38,
   "id": "b55b1ea6-416e-4455-a25e-8ba1a6047a8c",
   "metadata": {},
   "outputs": [],
   "source": [
    "dollar_amount_cols = [\"DisbursementGross\", \"GrAppv\", \"SBA_Appv\"]\n",
    "for col in dollar_amount_cols:\n",
    "    train_data[col] = train_data[col].apply(lambda x: x.replace(\"$\", \"\").replace(\".\", \"\").replace(\",\", \"\")).astype(int).copy()\n",
    "    test_data[col] = test_data[col].apply(lambda x: x.replace(\"$\", \"\").replace(\".\", \"\").replace(\",\", \"\")).astype(int).copy()"
   ]
  },
  {
   "cell_type": "markdown",
   "id": "e68da05c-3553-4c4c-935f-93b96b0441a6",
   "metadata": {},
   "source": [
    "## 各カラムの確認"
   ]
  },
  {
   "cell_type": "markdown",
   "id": "1171cc9f-a06a-4bd0-b770-e99293b1c655",
   "metadata": {},
   "source": [
    "### nullのあるカラム"
   ]
  },
  {
   "cell_type": "code",
   "execution_count": 22,
   "id": "33a9d6ba-4f5b-4de2-9ad2-18b60373b438",
   "metadata": {},
   "outputs": [
    {
     "data": {
      "text/plain": [
       "Term                    0\n",
       "NoEmp                   0\n",
       "NewExist                0\n",
       "CreateJob               0\n",
       "RetainedJob             0\n",
       "FranchiseCode           0\n",
       "RevLineCr            1079\n",
       "LowDoc                531\n",
       "DisbursementDate      150\n",
       "MIS_Status              0\n",
       "Sector                  0\n",
       "ApprovalDate            0\n",
       "ApprovalFY              0\n",
       "City                    0\n",
       "State                   0\n",
       "BankState              11\n",
       "DisbursementGross       0\n",
       "GrAppv                  0\n",
       "SBA_Appv                0\n",
       "UrbanRural              0\n",
       "dtype: int64"
      ]
     },
     "execution_count": 22,
     "metadata": {},
     "output_type": "execute_result"
    }
   ],
   "source": [
    "train_data.isnull().sum(axis=0)"
   ]
  },
  {
   "cell_type": "markdown",
   "id": "591e0c5a-426d-4d0e-81a4-d341a8fcbd48",
   "metadata": {},
   "source": [
    "### 表記揺れカラム"
   ]
  },
  {
   "cell_type": "code",
   "execution_count": 27,
   "id": "bdffa60f-21af-4756-a96f-66b03363f555",
   "metadata": {},
   "outputs": [
    {
     "name": "stdout",
     "output_type": "stream",
     "text": [
      "train\n"
     ]
    },
    {
     "data": {
      "text/plain": [
       "N    27618\n",
       "Y     7353\n",
       "0     5561\n",
       "T      696\n",
       "Name: RevLineCr, dtype: int64"
      ]
     },
     "metadata": {},
     "output_type": "display_data"
    },
    {
     "name": "stdout",
     "output_type": "stream",
     "text": [
      "test\n"
     ]
    },
    {
     "data": {
      "text/plain": [
       "N    27829\n",
       "Y     7454\n",
       "0     5346\n",
       "T      638\n",
       "Name: RevLineCr, dtype: int64"
      ]
     },
     "metadata": {},
     "output_type": "display_data"
    }
   ],
   "source": [
    "# RevLineCr: リボルビング信用枠か\n",
    "print('train')\n",
    "display(train_data[\"RevLineCr\"].value_counts())\n",
    "print('test')\n",
    "display(test_data[\"RevLineCr\"].value_counts())"
   ]
  },
  {
   "cell_type": "code",
   "execution_count": 28,
   "id": "987c9bdc-bf72-4d7e-8ad6-02f9488b979a",
   "metadata": {},
   "outputs": [
    {
     "name": "stdout",
     "output_type": "stream",
     "text": [
      "train\n"
     ]
    },
    {
     "data": {
      "text/plain": [
       "N    34313\n",
       "Y     5277\n",
       "0      684\n",
       "A      570\n",
       "S      540\n",
       "C      392\n",
       "Name: LowDoc, dtype: int64"
      ]
     },
     "metadata": {},
     "output_type": "display_data"
    },
    {
     "name": "stdout",
     "output_type": "stream",
     "text": [
      "test\n"
     ]
    },
    {
     "data": {
      "text/plain": [
       "N    34360\n",
       "Y     5275\n",
       "0      675\n",
       "A      561\n",
       "S      523\n",
       "C      394\n",
       "Name: LowDoc, dtype: int64"
      ]
     },
     "metadata": {},
     "output_type": "display_data"
    }
   ],
   "source": [
    "# LowDoc: 15万ドル未満のローンの1ページの短い申請で処理できるプログラムか\n",
    "print('train')\n",
    "display(train_data[\"LowDoc\"].value_counts())\n",
    "print('test')\n",
    "display(test_data[\"LowDoc\"].value_counts())"
   ]
  },
  {
   "cell_type": "code",
   "execution_count": 33,
   "id": "ab9f7736-8630-43ef-84e4-6c9dbd7eb5e5",
   "metadata": {},
   "outputs": [
    {
     "name": "stdout",
     "output_type": "stream",
     "text": [
      "train\n"
     ]
    },
    {
     "data": {
      "text/html": [
       "<div>\n",
       "<style scoped>\n",
       "    .dataframe tbody tr th:only-of-type {\n",
       "        vertical-align: middle;\n",
       "    }\n",
       "\n",
       "    .dataframe tbody tr th {\n",
       "        vertical-align: top;\n",
       "    }\n",
       "\n",
       "    .dataframe thead th {\n",
       "        text-align: right;\n",
       "    }\n",
       "</style>\n",
       "<table border=\"1\" class=\"dataframe\">\n",
       "  <thead>\n",
       "    <tr style=\"text-align: right;\">\n",
       "      <th></th>\n",
       "      <th>Term</th>\n",
       "      <th>NoEmp</th>\n",
       "      <th>NewExist</th>\n",
       "      <th>CreateJob</th>\n",
       "      <th>RetainedJob</th>\n",
       "      <th>FranchiseCode</th>\n",
       "      <th>RevLineCr</th>\n",
       "      <th>LowDoc</th>\n",
       "      <th>DisbursementDate</th>\n",
       "      <th>MIS_Status</th>\n",
       "      <th>Sector</th>\n",
       "      <th>ApprovalDate</th>\n",
       "      <th>ApprovalFY</th>\n",
       "      <th>City</th>\n",
       "      <th>State</th>\n",
       "      <th>BankState</th>\n",
       "      <th>DisbursementGross</th>\n",
       "      <th>GrAppv</th>\n",
       "      <th>SBA_Appv</th>\n",
       "      <th>UrbanRural</th>\n",
       "    </tr>\n",
       "  </thead>\n",
       "  <tbody>\n",
       "    <tr>\n",
       "      <th>1417</th>\n",
       "      <td>238</td>\n",
       "      <td>22</td>\n",
       "      <td>1.0</td>\n",
       "      <td>0</td>\n",
       "      <td>0</td>\n",
       "      <td>0</td>\n",
       "      <td>N</td>\n",
       "      <td>N</td>\n",
       "      <td>26-Mar-10</td>\n",
       "      <td>1</td>\n",
       "      <td>62</td>\n",
       "      <td>17-Oct-73</td>\n",
       "      <td>1974</td>\n",
       "      <td>MILPITAS</td>\n",
       "      <td>CA</td>\n",
       "      <td>DC</td>\n",
       "      <td>44550000</td>\n",
       "      <td>44550000</td>\n",
       "      <td>33412500</td>\n",
       "      <td>0</td>\n",
       "    </tr>\n",
       "    <tr>\n",
       "      <th>8682</th>\n",
       "      <td>84</td>\n",
       "      <td>17</td>\n",
       "      <td>1.0</td>\n",
       "      <td>0</td>\n",
       "      <td>0</td>\n",
       "      <td>0</td>\n",
       "      <td>N</td>\n",
       "      <td>N</td>\n",
       "      <td>5-Oct-88</td>\n",
       "      <td>1</td>\n",
       "      <td>44</td>\n",
       "      <td>17-Oct-73</td>\n",
       "      <td>1974</td>\n",
       "      <td>SONORA</td>\n",
       "      <td>CA</td>\n",
       "      <td>CA</td>\n",
       "      <td>18000000</td>\n",
       "      <td>18000000</td>\n",
       "      <td>18000000</td>\n",
       "      <td>0</td>\n",
       "    </tr>\n",
       "    <tr>\n",
       "      <th>18156</th>\n",
       "      <td>83</td>\n",
       "      <td>49</td>\n",
       "      <td>1.0</td>\n",
       "      <td>0</td>\n",
       "      <td>0</td>\n",
       "      <td>0</td>\n",
       "      <td>N</td>\n",
       "      <td>N</td>\n",
       "      <td>12-Feb-88</td>\n",
       "      <td>1</td>\n",
       "      <td>62</td>\n",
       "      <td>17-Oct-73</td>\n",
       "      <td>1974</td>\n",
       "      <td>JACKSON HEIGHTS</td>\n",
       "      <td>NY</td>\n",
       "      <td>SD</td>\n",
       "      <td>6700000</td>\n",
       "      <td>5000000</td>\n",
       "      <td>2500000</td>\n",
       "      <td>0</td>\n",
       "    </tr>\n",
       "    <tr>\n",
       "      <th>28238</th>\n",
       "      <td>240</td>\n",
       "      <td>48</td>\n",
       "      <td>1.0</td>\n",
       "      <td>9</td>\n",
       "      <td>0</td>\n",
       "      <td>0</td>\n",
       "      <td>N</td>\n",
       "      <td>N</td>\n",
       "      <td>31-Dec-07</td>\n",
       "      <td>1</td>\n",
       "      <td>72</td>\n",
       "      <td>17-Oct-73</td>\n",
       "      <td>1974</td>\n",
       "      <td>DASSEL</td>\n",
       "      <td>MN</td>\n",
       "      <td>SD</td>\n",
       "      <td>37820000</td>\n",
       "      <td>37820000</td>\n",
       "      <td>28365000</td>\n",
       "      <td>0</td>\n",
       "    </tr>\n",
       "  </tbody>\n",
       "</table>\n",
       "</div>"
      ],
      "text/plain": [
       "       Term  NoEmp  NewExist  CreateJob  RetainedJob  FranchiseCode RevLineCr  \\\n",
       "1417    238     22       1.0          0            0              0         N   \n",
       "8682     84     17       1.0          0            0              0         N   \n",
       "18156    83     49       1.0          0            0              0         N   \n",
       "28238   240     48       1.0          9            0              0         N   \n",
       "\n",
       "      LowDoc DisbursementDate  MIS_Status  Sector ApprovalDate  ApprovalFY  \\\n",
       "1417       N        26-Mar-10           1      62    17-Oct-73        1974   \n",
       "8682       N         5-Oct-88           1      44    17-Oct-73        1974   \n",
       "18156      N        12-Feb-88           1      62    17-Oct-73        1974   \n",
       "28238      N        31-Dec-07           1      72    17-Oct-73        1974   \n",
       "\n",
       "                  City State BankState  DisbursementGross    GrAppv  SBA_Appv  \\\n",
       "1417          MILPITAS    CA        DC           44550000  44550000  33412500   \n",
       "8682            SONORA    CA        CA           18000000  18000000  18000000   \n",
       "18156  JACKSON HEIGHTS    NY        SD            6700000   5000000   2500000   \n",
       "28238           DASSEL    MN        SD           37820000  37820000  28365000   \n",
       "\n",
       "       UrbanRural  \n",
       "1417            0  \n",
       "8682            0  \n",
       "18156           0  \n",
       "28238           0  "
      ]
     },
     "metadata": {},
     "output_type": "display_data"
    },
    {
     "name": "stdout",
     "output_type": "stream",
     "text": [
      "test\n"
     ]
    },
    {
     "data": {
      "text/html": [
       "<div>\n",
       "<style scoped>\n",
       "    .dataframe tbody tr th:only-of-type {\n",
       "        vertical-align: middle;\n",
       "    }\n",
       "\n",
       "    .dataframe tbody tr th {\n",
       "        vertical-align: top;\n",
       "    }\n",
       "\n",
       "    .dataframe thead th {\n",
       "        text-align: right;\n",
       "    }\n",
       "</style>\n",
       "<table border=\"1\" class=\"dataframe\">\n",
       "  <thead>\n",
       "    <tr style=\"text-align: right;\">\n",
       "      <th></th>\n",
       "      <th>Term</th>\n",
       "      <th>NoEmp</th>\n",
       "      <th>NewExist</th>\n",
       "      <th>CreateJob</th>\n",
       "      <th>RetainedJob</th>\n",
       "      <th>FranchiseCode</th>\n",
       "      <th>RevLineCr</th>\n",
       "      <th>LowDoc</th>\n",
       "      <th>DisbursementDate</th>\n",
       "      <th>Sector</th>\n",
       "      <th>ApprovalDate</th>\n",
       "      <th>ApprovalFY</th>\n",
       "      <th>City</th>\n",
       "      <th>State</th>\n",
       "      <th>BankState</th>\n",
       "      <th>DisbursementGross</th>\n",
       "      <th>GrAppv</th>\n",
       "      <th>SBA_Appv</th>\n",
       "      <th>UrbanRural</th>\n",
       "    </tr>\n",
       "  </thead>\n",
       "  <tbody>\n",
       "    <tr>\n",
       "      <th>49650</th>\n",
       "      <td>303</td>\n",
       "      <td>24</td>\n",
       "      <td>1.0</td>\n",
       "      <td>0</td>\n",
       "      <td>0</td>\n",
       "      <td>0</td>\n",
       "      <td>N</td>\n",
       "      <td>N</td>\n",
       "      <td>28-Feb-05</td>\n",
       "      <td>62</td>\n",
       "      <td>17-Oct-73</td>\n",
       "      <td>1974</td>\n",
       "      <td>CLAREMORE</td>\n",
       "      <td>OK</td>\n",
       "      <td>OK</td>\n",
       "      <td>94050000</td>\n",
       "      <td>94050000</td>\n",
       "      <td>70537500</td>\n",
       "      <td>0</td>\n",
       "    </tr>\n",
       "    <tr>\n",
       "      <th>71059</th>\n",
       "      <td>83</td>\n",
       "      <td>21</td>\n",
       "      <td>1.0</td>\n",
       "      <td>0</td>\n",
       "      <td>0</td>\n",
       "      <td>0</td>\n",
       "      <td>N</td>\n",
       "      <td>N</td>\n",
       "      <td>31-Jan-01</td>\n",
       "      <td>42</td>\n",
       "      <td>17-Oct-73</td>\n",
       "      <td>1974</td>\n",
       "      <td>BOCA RATON</td>\n",
       "      <td>FL</td>\n",
       "      <td>FL</td>\n",
       "      <td>7834800</td>\n",
       "      <td>5000000</td>\n",
       "      <td>2500000</td>\n",
       "      <td>0</td>\n",
       "    </tr>\n",
       "    <tr>\n",
       "      <th>78536</th>\n",
       "      <td>239</td>\n",
       "      <td>42</td>\n",
       "      <td>1.0</td>\n",
       "      <td>1</td>\n",
       "      <td>0</td>\n",
       "      <td>0</td>\n",
       "      <td>N</td>\n",
       "      <td>N</td>\n",
       "      <td>28-Feb-05</td>\n",
       "      <td>44</td>\n",
       "      <td>17-Oct-73</td>\n",
       "      <td>1974</td>\n",
       "      <td>FAIRHAVEN</td>\n",
       "      <td>MA</td>\n",
       "      <td>RI</td>\n",
       "      <td>6718400</td>\n",
       "      <td>5000000</td>\n",
       "      <td>2500000</td>\n",
       "      <td>0</td>\n",
       "    </tr>\n",
       "  </tbody>\n",
       "</table>\n",
       "</div>"
      ],
      "text/plain": [
       "       Term  NoEmp  NewExist  CreateJob  RetainedJob  FranchiseCode RevLineCr  \\\n",
       "49650   303     24       1.0          0            0              0         N   \n",
       "71059    83     21       1.0          0            0              0         N   \n",
       "78536   239     42       1.0          1            0              0         N   \n",
       "\n",
       "      LowDoc DisbursementDate  Sector ApprovalDate  ApprovalFY        City  \\\n",
       "49650      N        28-Feb-05      62    17-Oct-73        1974   CLAREMORE   \n",
       "71059      N        31-Jan-01      42    17-Oct-73        1974  BOCA RATON   \n",
       "78536      N        28-Feb-05      44    17-Oct-73        1974   FAIRHAVEN   \n",
       "\n",
       "      State BankState  DisbursementGross    GrAppv  SBA_Appv  UrbanRural  \n",
       "49650    OK        OK           94050000  94050000  70537500           0  \n",
       "71059    FL        FL            7834800   5000000   2500000           0  \n",
       "78536    MA        RI            6718400   5000000   2500000           0  "
      ]
     },
     "metadata": {},
     "output_type": "display_data"
    }
   ],
   "source": [
    "print('train')\n",
    "display(train_data[pd.to_datetime(train_data[\"ApprovalDate\"]) >= pd.to_datetime(\"2024-03-01\")])\n",
    "print('test')\n",
    "display(test_data[pd.to_datetime(test_data[\"ApprovalDate\"]) >= pd.to_datetime(\"2024-03-01\")])"
   ]
  },
  {
   "cell_type": "code",
   "execution_count": 34,
   "id": "5339b37e-a92a-4198-b603-98e93ae337bf",
   "metadata": {},
   "outputs": [
    {
     "name": "stdout",
     "output_type": "stream",
     "text": [
      "train\n"
     ]
    },
    {
     "data": {
      "text/html": [
       "<div>\n",
       "<style scoped>\n",
       "    .dataframe tbody tr th:only-of-type {\n",
       "        vertical-align: middle;\n",
       "    }\n",
       "\n",
       "    .dataframe tbody tr th {\n",
       "        vertical-align: top;\n",
       "    }\n",
       "\n",
       "    .dataframe thead th {\n",
       "        text-align: right;\n",
       "    }\n",
       "</style>\n",
       "<table border=\"1\" class=\"dataframe\">\n",
       "  <thead>\n",
       "    <tr style=\"text-align: right;\">\n",
       "      <th></th>\n",
       "      <th>Term</th>\n",
       "      <th>NoEmp</th>\n",
       "      <th>NewExist</th>\n",
       "      <th>CreateJob</th>\n",
       "      <th>RetainedJob</th>\n",
       "      <th>FranchiseCode</th>\n",
       "      <th>RevLineCr</th>\n",
       "      <th>LowDoc</th>\n",
       "      <th>DisbursementDate</th>\n",
       "      <th>MIS_Status</th>\n",
       "      <th>Sector</th>\n",
       "      <th>ApprovalDate</th>\n",
       "      <th>ApprovalFY</th>\n",
       "      <th>City</th>\n",
       "      <th>State</th>\n",
       "      <th>BankState</th>\n",
       "      <th>DisbursementGross</th>\n",
       "      <th>GrAppv</th>\n",
       "      <th>SBA_Appv</th>\n",
       "      <th>UrbanRural</th>\n",
       "    </tr>\n",
       "  </thead>\n",
       "  <tbody>\n",
       "  </tbody>\n",
       "</table>\n",
       "</div>"
      ],
      "text/plain": [
       "Empty DataFrame\n",
       "Columns: [Term, NoEmp, NewExist, CreateJob, RetainedJob, FranchiseCode, RevLineCr, LowDoc, DisbursementDate, MIS_Status, Sector, ApprovalDate, ApprovalFY, City, State, BankState, DisbursementGross, GrAppv, SBA_Appv, UrbanRural]\n",
       "Index: []"
      ]
     },
     "metadata": {},
     "output_type": "display_data"
    },
    {
     "name": "stdout",
     "output_type": "stream",
     "text": [
      "test\n"
     ]
    },
    {
     "data": {
      "text/html": [
       "<div>\n",
       "<style scoped>\n",
       "    .dataframe tbody tr th:only-of-type {\n",
       "        vertical-align: middle;\n",
       "    }\n",
       "\n",
       "    .dataframe tbody tr th {\n",
       "        vertical-align: top;\n",
       "    }\n",
       "\n",
       "    .dataframe thead th {\n",
       "        text-align: right;\n",
       "    }\n",
       "</style>\n",
       "<table border=\"1\" class=\"dataframe\">\n",
       "  <thead>\n",
       "    <tr style=\"text-align: right;\">\n",
       "      <th></th>\n",
       "      <th>Term</th>\n",
       "      <th>NoEmp</th>\n",
       "      <th>NewExist</th>\n",
       "      <th>CreateJob</th>\n",
       "      <th>RetainedJob</th>\n",
       "      <th>FranchiseCode</th>\n",
       "      <th>RevLineCr</th>\n",
       "      <th>LowDoc</th>\n",
       "      <th>DisbursementDate</th>\n",
       "      <th>Sector</th>\n",
       "      <th>ApprovalDate</th>\n",
       "      <th>ApprovalFY</th>\n",
       "      <th>City</th>\n",
       "      <th>State</th>\n",
       "      <th>BankState</th>\n",
       "      <th>DisbursementGross</th>\n",
       "      <th>GrAppv</th>\n",
       "      <th>SBA_Appv</th>\n",
       "      <th>UrbanRural</th>\n",
       "    </tr>\n",
       "  </thead>\n",
       "  <tbody>\n",
       "  </tbody>\n",
       "</table>\n",
       "</div>"
      ],
      "text/plain": [
       "Empty DataFrame\n",
       "Columns: [Term, NoEmp, NewExist, CreateJob, RetainedJob, FranchiseCode, RevLineCr, LowDoc, DisbursementDate, Sector, ApprovalDate, ApprovalFY, City, State, BankState, DisbursementGross, GrAppv, SBA_Appv, UrbanRural]\n",
       "Index: []"
      ]
     },
     "metadata": {},
     "output_type": "display_data"
    }
   ],
   "source": [
    "print('train')\n",
    "display(train_data[pd.to_datetime(train_data[\"ApprovalDate\"], format=\"%d-%b-%y\") >= pd.to_datetime(\"2024-03-01\")])\n",
    "print('test')\n",
    "display(test_data[pd.to_datetime(test_data[\"ApprovalDate\"], format=\"%d-%b-%y\") >= pd.to_datetime(\"2024-03-01\")])"
   ]
  },
  {
   "cell_type": "markdown",
   "id": "4f248b2a-8163-4582-b83e-04fda3ada1f4",
   "metadata": {},
   "source": [
    "### 年月等"
   ]
  },
  {
   "cell_type": "code",
   "execution_count": 39,
   "id": "120e781c-57da-47b8-a9a7-085e571e47e0",
   "metadata": {},
   "outputs": [],
   "source": [
    "# 前処理\n",
    "train_data[\"ApprovalDate\"] = pd.to_datetime(train_data[\"ApprovalDate\"], format=\"%d-%b-%y\")\n",
    "train_data[\"DisbursementDate\"] = pd.to_datetime(train_data[\"DisbursementDate\"], format=\"%d-%b-%y\")\n",
    "test_data[\"ApprovalDate\"] = pd.to_datetime(test_data[\"ApprovalDate\"], format=\"%d-%b-%y\")\n",
    "test_data[\"DisbursementDate\"] = pd.to_datetime(test_data[\"DisbursementDate\"], format=\"%d-%b-%y\")"
   ]
  },
  {
   "cell_type": "code",
   "execution_count": 40,
   "id": "71d8ed11-7194-466e-a344-9561f92aac2b",
   "metadata": {},
   "outputs": [],
   "source": [
    "train_data[\"WatingTime\"] = train_data[\"DisbursementDate\"] - train_data[\"ApprovalDate\"]\n",
    "test_data[\"WatingTime\"] = test_data[\"DisbursementDate\"] - test_data[\"ApprovalDate\"]"
   ]
  },
  {
   "cell_type": "code",
   "execution_count": 49,
   "id": "802f917d-bb38-4386-970f-2ae2c3df19a2",
   "metadata": {},
   "outputs": [
    {
     "data": {
      "text/html": [
       "<div>\n",
       "<style scoped>\n",
       "    .dataframe tbody tr th:only-of-type {\n",
       "        vertical-align: middle;\n",
       "    }\n",
       "\n",
       "    .dataframe tbody tr th {\n",
       "        vertical-align: top;\n",
       "    }\n",
       "\n",
       "    .dataframe thead th {\n",
       "        text-align: right;\n",
       "    }\n",
       "</style>\n",
       "<table border=\"1\" class=\"dataframe\">\n",
       "  <thead>\n",
       "    <tr style=\"text-align: right;\">\n",
       "      <th></th>\n",
       "      <th>ApprovalDate</th>\n",
       "      <th>DisbursementDate</th>\n",
       "    </tr>\n",
       "  </thead>\n",
       "  <tbody>\n",
       "    <tr>\n",
       "      <th>count</th>\n",
       "      <td>42307</td>\n",
       "      <td>42157</td>\n",
       "    </tr>\n",
       "    <tr>\n",
       "      <th>unique</th>\n",
       "      <td>3868</td>\n",
       "      <td>916</td>\n",
       "    </tr>\n",
       "    <tr>\n",
       "      <th>top</th>\n",
       "      <td>2003-10-07 00:00:00</td>\n",
       "      <td>2003-11-30 00:00:00</td>\n",
       "    </tr>\n",
       "    <tr>\n",
       "      <th>freq</th>\n",
       "      <td>1347</td>\n",
       "      <td>1634</td>\n",
       "    </tr>\n",
       "    <tr>\n",
       "      <th>first</th>\n",
       "      <td>1973-10-17 00:00:00</td>\n",
       "      <td>1973-12-06 00:00:00</td>\n",
       "    </tr>\n",
       "    <tr>\n",
       "      <th>last</th>\n",
       "      <td>2014-01-13 00:00:00</td>\n",
       "      <td>2014-07-05 00:00:00</td>\n",
       "    </tr>\n",
       "  </tbody>\n",
       "</table>\n",
       "</div>"
      ],
      "text/plain": [
       "               ApprovalDate     DisbursementDate\n",
       "count                 42307                42157\n",
       "unique                 3868                  916\n",
       "top     2003-10-07 00:00:00  2003-11-30 00:00:00\n",
       "freq                   1347                 1634\n",
       "first   1973-10-17 00:00:00  1973-12-06 00:00:00\n",
       "last    2014-01-13 00:00:00  2014-07-05 00:00:00"
      ]
     },
     "metadata": {},
     "output_type": "display_data"
    },
    {
     "data": {
      "text/html": [
       "<div>\n",
       "<style scoped>\n",
       "    .dataframe tbody tr th:only-of-type {\n",
       "        vertical-align: middle;\n",
       "    }\n",
       "\n",
       "    .dataframe tbody tr th {\n",
       "        vertical-align: top;\n",
       "    }\n",
       "\n",
       "    .dataframe thead th {\n",
       "        text-align: right;\n",
       "    }\n",
       "</style>\n",
       "<table border=\"1\" class=\"dataframe\">\n",
       "  <thead>\n",
       "    <tr style=\"text-align: right;\">\n",
       "      <th></th>\n",
       "      <th>ApprovalDate</th>\n",
       "      <th>DisbursementDate</th>\n",
       "    </tr>\n",
       "  </thead>\n",
       "  <tbody>\n",
       "    <tr>\n",
       "      <th>count</th>\n",
       "      <td>42308</td>\n",
       "      <td>42148</td>\n",
       "    </tr>\n",
       "    <tr>\n",
       "      <th>unique</th>\n",
       "      <td>3888</td>\n",
       "      <td>915</td>\n",
       "    </tr>\n",
       "    <tr>\n",
       "      <th>top</th>\n",
       "      <td>2003-10-07 00:00:00</td>\n",
       "      <td>2003-11-30 00:00:00</td>\n",
       "    </tr>\n",
       "    <tr>\n",
       "      <th>freq</th>\n",
       "      <td>1372</td>\n",
       "      <td>1627</td>\n",
       "    </tr>\n",
       "    <tr>\n",
       "      <th>first</th>\n",
       "      <td>1973-10-17 00:00:00</td>\n",
       "      <td>1973-12-06 00:00:00</td>\n",
       "    </tr>\n",
       "    <tr>\n",
       "      <th>last</th>\n",
       "      <td>2014-01-13 00:00:00</td>\n",
       "      <td>2014-07-05 00:00:00</td>\n",
       "    </tr>\n",
       "  </tbody>\n",
       "</table>\n",
       "</div>"
      ],
      "text/plain": [
       "               ApprovalDate     DisbursementDate\n",
       "count                 42308                42148\n",
       "unique                 3888                  915\n",
       "top     2003-10-07 00:00:00  2003-11-30 00:00:00\n",
       "freq                   1372                 1627\n",
       "first   1973-10-17 00:00:00  1973-12-06 00:00:00\n",
       "last    2014-01-13 00:00:00  2014-07-05 00:00:00"
      ]
     },
     "metadata": {},
     "output_type": "display_data"
    }
   ],
   "source": [
    "cols=[\"ApprovalDate\", \"DisbursementDate\"]\n",
    "display(train_data[cols].describe(include=\"all\"))\n",
    "display(test_data[cols].describe(include=\"all\"))"
   ]
  },
  {
   "cell_type": "code",
   "execution_count": 50,
   "id": "062c18b3-a970-4848-a07b-9957d77c367e",
   "metadata": {},
   "outputs": [
    {
     "data": {
      "text/html": [
       "<div>\n",
       "<style scoped>\n",
       "    .dataframe tbody tr th:only-of-type {\n",
       "        vertical-align: middle;\n",
       "    }\n",
       "\n",
       "    .dataframe tbody tr th {\n",
       "        vertical-align: top;\n",
       "    }\n",
       "\n",
       "    .dataframe thead th {\n",
       "        text-align: right;\n",
       "    }\n",
       "</style>\n",
       "<table border=\"1\" class=\"dataframe\">\n",
       "  <thead>\n",
       "    <tr style=\"text-align: right;\">\n",
       "      <th></th>\n",
       "      <th>WatingTime</th>\n",
       "    </tr>\n",
       "  </thead>\n",
       "  <tbody>\n",
       "    <tr>\n",
       "      <th>count</th>\n",
       "      <td>42157</td>\n",
       "    </tr>\n",
       "    <tr>\n",
       "      <th>mean</th>\n",
       "      <td>-72 days +01:21:50.558151671</td>\n",
       "    </tr>\n",
       "    <tr>\n",
       "      <th>std</th>\n",
       "      <td>3103 days 20:36:13.473957312</td>\n",
       "    </tr>\n",
       "    <tr>\n",
       "      <th>min</th>\n",
       "      <td>-12152 days +00:00:00</td>\n",
       "    </tr>\n",
       "    <tr>\n",
       "      <th>25%</th>\n",
       "      <td>-2167 days +00:00:00</td>\n",
       "    </tr>\n",
       "    <tr>\n",
       "      <th>50%</th>\n",
       "      <td>-123 days +00:00:00</td>\n",
       "    </tr>\n",
       "    <tr>\n",
       "      <th>75%</th>\n",
       "      <td>2046 days 00:00:00</td>\n",
       "    </tr>\n",
       "    <tr>\n",
       "      <th>max</th>\n",
       "      <td>13309 days 00:00:00</td>\n",
       "    </tr>\n",
       "  </tbody>\n",
       "</table>\n",
       "</div>"
      ],
      "text/plain": [
       "                         WatingTime\n",
       "count                         42157\n",
       "mean   -72 days +01:21:50.558151671\n",
       "std    3103 days 20:36:13.473957312\n",
       "min           -12152 days +00:00:00\n",
       "25%            -2167 days +00:00:00\n",
       "50%             -123 days +00:00:00\n",
       "75%              2046 days 00:00:00\n",
       "max             13309 days 00:00:00"
      ]
     },
     "metadata": {},
     "output_type": "display_data"
    },
    {
     "data": {
      "text/html": [
       "<div>\n",
       "<style scoped>\n",
       "    .dataframe tbody tr th:only-of-type {\n",
       "        vertical-align: middle;\n",
       "    }\n",
       "\n",
       "    .dataframe tbody tr th {\n",
       "        vertical-align: top;\n",
       "    }\n",
       "\n",
       "    .dataframe thead th {\n",
       "        text-align: right;\n",
       "    }\n",
       "</style>\n",
       "<table border=\"1\" class=\"dataframe\">\n",
       "  <thead>\n",
       "    <tr style=\"text-align: right;\">\n",
       "      <th></th>\n",
       "      <th>WatingTime</th>\n",
       "    </tr>\n",
       "  </thead>\n",
       "  <tbody>\n",
       "    <tr>\n",
       "      <th>count</th>\n",
       "      <td>42148</td>\n",
       "    </tr>\n",
       "    <tr>\n",
       "      <th>mean</th>\n",
       "      <td>-84 days +19:06:31.192939167</td>\n",
       "    </tr>\n",
       "    <tr>\n",
       "      <th>std</th>\n",
       "      <td>3110 days 12:51:07.796482592</td>\n",
       "    </tr>\n",
       "    <tr>\n",
       "      <th>min</th>\n",
       "      <td>-12452 days +00:00:00</td>\n",
       "    </tr>\n",
       "    <tr>\n",
       "      <th>25%</th>\n",
       "      <td>-2151 days +18:00:00</td>\n",
       "    </tr>\n",
       "    <tr>\n",
       "      <th>50%</th>\n",
       "      <td>-118 days +00:00:00</td>\n",
       "    </tr>\n",
       "    <tr>\n",
       "      <th>75%</th>\n",
       "      <td>2062 days 00:00:00</td>\n",
       "    </tr>\n",
       "    <tr>\n",
       "      <th>max</th>\n",
       "      <td>12250 days 00:00:00</td>\n",
       "    </tr>\n",
       "  </tbody>\n",
       "</table>\n",
       "</div>"
      ],
      "text/plain": [
       "                         WatingTime\n",
       "count                         42148\n",
       "mean   -84 days +19:06:31.192939167\n",
       "std    3110 days 12:51:07.796482592\n",
       "min           -12452 days +00:00:00\n",
       "25%            -2151 days +18:00:00\n",
       "50%             -118 days +00:00:00\n",
       "75%              2062 days 00:00:00\n",
       "max             12250 days 00:00:00"
      ]
     },
     "metadata": {},
     "output_type": "display_data"
    }
   ],
   "source": [
    "cols = [\"WatingTime\"]\n",
    "display(train_data[cols].describe(include=\"all\"))\n",
    "display(test_data[cols].describe(include=\"all\"))"
   ]
  },
  {
   "cell_type": "code",
   "execution_count": null,
   "id": "eef45d8b-9c30-4ec8-879c-f494ecfb5451",
   "metadata": {},
   "outputs": [],
   "source": []
  }
 ],
 "metadata": {
  "kernelspec": {
   "display_name": "Python 3 (ipykernel)",
   "language": "python",
   "name": "python3"
  },
  "language_info": {
   "codemirror_mode": {
    "name": "ipython",
    "version": 3
   },
   "file_extension": ".py",
   "mimetype": "text/x-python",
   "name": "python",
   "nbconvert_exporter": "python",
   "pygments_lexer": "ipython3",
   "version": "3.9.18"
  }
 },
 "nbformat": 4,
 "nbformat_minor": 5
}
